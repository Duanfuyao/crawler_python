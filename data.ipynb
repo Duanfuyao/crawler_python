{
 "cells": [
  {
   "cell_type": "code",
   "execution_count": 63,
   "metadata": {},
   "outputs": [],
   "source": [
    "import json\n",
    "fin1=open(\"data.json\",\"r\",encoding=\"utf-8\")\n",
    "data=json.load(fin1)"
   ]
  },
  {
   "cell_type": "code",
   "execution_count": 165,
   "metadata": {},
   "outputs": [
    {
     "name": "stdout",
     "output_type": "stream",
     "text": [
      "0:磷酸铁锂\n",
      "1:磷酸锰铁锂\n",
      "2:三元材料\n",
      "3:其他正极材料\n",
      "4:石墨材料\n",
      "5:碳材料\n",
      "6:钛酸锂\n",
      "7:硅碳负极\n",
      "8:其他负极材料\n",
      "9:电解液溶剂\n",
      "10:电解液添加剂\n",
      "11:锂盐\n",
      "12:锂电池隔膜\n",
      "13:锂电池结构件\n",
      "14:粘结剂\n",
      "15:分散剂\n",
      "16:铝塑膜\n",
      "17:导电剂\n",
      "18:铜箔\n",
      "19:铝箔\n",
      "20:锂电芯\n",
      "21:PVC膜\n",
      "22:连接线束\n",
      "23:锂电池模组\n",
      "24:BMS\n",
      "25:线束连接器\n",
      "26:模组外包装\n",
      "27:镍钴锰矿\n",
      "28:锂矿\n",
      "29:石墨矿\n",
      "30:消费电子领域\n",
      "31:动力电池领域\n",
      "32:储能领域\n",
      "33:锂电池回收\n",
      "34:其他锂电池\n",
      "35:正极材料\n",
      "36:负极材料\n",
      "37:锂电池电解液\n",
      "38:其他辅助材料\n",
      "39:锂电池生产\n",
      "40:锂电池封装\n",
      "41:锂电池生产组装\n",
      "42:锂电池材料\n",
      "43:锂电池原材料\n",
      "44:锂电池应用\n",
      "45:锂电池\n"
     ]
    }
   ],
   "source": [
    "for idx,i in enumerate(data):\n",
    "    print(str(idx)+\":\"+i[\"title\"])"
   ]
  },
  {
   "cell_type": "code",
   "execution_count": 169,
   "metadata": {},
   "outputs": [
    {
     "name": "stdout",
     "output_type": "stream",
     "text": [
      "分散剂\n"
     ]
    }
   ],
   "source": [
    "i=15\n",
    "print(data[i]['title'])"
   ]
  },
  {
   "cell_type": "code",
   "execution_count": 170,
   "metadata": {},
   "outputs": [],
   "source": [
    "fin2=open(\"company.json\",\"r\",encoding=\"utf-8\")\n",
    "data2=json.load(fin2)\n",
    "data[i]['status']=data2\n",
    "data[i]['status']\n",
    "fin2.close()"
   ]
  },
  {
   "cell_type": "code",
   "execution_count": 171,
   "metadata": {},
   "outputs": [],
   "source": [
    "fout=open(\"data_all.json\",\"w\",encoding=\"utf-8\")\n",
    "json.dump(data,fout,ensure_ascii=False)  \n",
    "fout.close()"
   ]
  },
  {
   "cell_type": "code",
   "execution_count": 3,
   "metadata": {},
   "outputs": [
    {
     "data": {
      "text/plain": [
       "dict_keys(['name', 'status', 'size', 'type', 'marketStatus', 'rank', 'representation', 'money', 'time', 'location'])"
      ]
     },
     "execution_count": 3,
     "metadata": {},
     "output_type": "execute_result"
    }
   ],
   "source": [
    "#对应公司名称，公司目前情况（在营与否）,公司规模，公司性质，公司在产业中的地位，法人代表，注册资金规模，注册时间，公司所在位置\n",
    "#空的就是没有信息\n",
    "data[0]['companydata'][0].keys()"
   ]
  },
  {
   "cell_type": "code",
   "execution_count": 4,
   "metadata": {},
   "outputs": [
    {
     "data": {
      "text/plain": [
       "{'name': '湖南裕能新能源电池材料股份有限公司',\n",
       " 'status': '在营',\n",
       " 'size': '大型企业',\n",
       " 'type': '国有企业',\n",
       " 'marketStatus': '战略融资',\n",
       " 'rank': '链主企业',\n",
       " 'representation': '谭新乔',\n",
       " 'money': '56793.987万人民币',\n",
       " 'time': '2016-06-23',\n",
       " 'location': '湖南省湘潭市雨湖区鹤岭镇日丽路18号\\n'}"
      ]
     },
     "execution_count": 4,
     "metadata": {},
     "output_type": "execute_result"
    }
   ],
   "source": [
    "data[0]['companydata'][0]"
   ]
  },
  {
   "cell_type": "code",
   "execution_count": 5,
   "metadata": {},
   "outputs": [
    {
     "data": {
      "text/plain": [
       "['欣旺达电动汽车电池有限公司',\n",
       " '深圳市比亚迪锂电池有限公司',\n",
       " '合肥国轩高科动力能源有限公司',\n",
       " '中国宝安集团股份有限公司',\n",
       " '宁德时代新能源科技股份有限公司',\n",
       " '河南易成新能源股份有限公司',\n",
       " '科达制造股份有限公司',\n",
       " '国轩高科股份有限公司',\n",
       " '彩虹集团有限公司',\n",
       " '北京合纵科技股份有限公司',\n",
       " '天能电池集团股份有限公司',\n",
       " '武汉蔚能电池资产有限公司',\n",
       " '贝特瑞新材料集团股份有限公司',\n",
       " '北京当升材料科技股份有限公司',\n",
       " '福建坤彩材料科技股份有限公司',\n",
       " '宁波容百新能源科技股份有限公司',\n",
       " '深圳市超频三科技股份有限公司',\n",
       " '\\n']"
      ]
     },
     "execution_count": 5,
     "metadata": {},
     "output_type": "execute_result"
    }
   ],
   "source": [
    "data[0]['recommandCompany']"
   ]
  },
  {
   "cell_type": "code",
   "execution_count": 6,
   "metadata": {},
   "outputs": [
    {
     "data": {
      "text/plain": [
       "['锂离子电池包散热结构及锂离子电池包申请（专利权）人： 傲普（上海）新能源有限公司',\n",
       " '一种锂离子电池金属氧化物包覆正极材料的制备方法申请（专利权）人： 佛山市邦普循环科技有限公司 、 湖南邦普循环科技有限公司 、 广东邦普循环科技有限公司',\n",
       " '一种锂浆料电池及其非对称式电极片申请（专利权）人： 北京好风光储能技术有限公司',\n",
       " '磷酸锰锂包覆的富锂层状氧化物正极材料及其制备和应用申请（专利权）人： 南开大学',\n",
       " '锂离子电容器负极预嵌锂的方法申请（专利权）人： 万裕三信电子（东莞）有限公司 、 深圳清华大学研究院',\n",
       " '一种锂离子电池正极补锂添加剂及其制备方法与应用申请（专利权）人： 合肥国轩高科动力能源有限公司',\n",
       " '一种锂离子动力电池废弃正极极片的回收方法申请（专利权）人： 中国科学院生态环境研究中心',\n",
       " '汽车用锂离子电池壳体的正负极隔离结构申请（专利权）人： 湖州天丰电源有限公司 、 杭州天丰电源股份有限公司',\n",
       " '一种新型锂硫电池正极复合材料及其制备方法申请（专利权）人： 肇庆市华师大光电产业研究院',\n",
       " '用于制备锂离子电池负极材料的压制装置申请（专利权）人： 深圳市斯诺实业发展有限公司',\n",
       " '一种提高锂空气电池电化学性能的电解液添加剂申请（专利权）人： 厦门大学',\n",
       " '一种锂镁氮氢复合储氢材料申请（专利权）人： 浙江大学',\n",
       " '一种陶瓷隔膜及在锂离子电池中的应用申请（专利权）人： 合肥国轩高科动力能源有限公司',\n",
       " '一种软包锂离子电池的极片浸润方法申请（专利权）人： 天津市捷威动力工业有限公司',\n",
       " '用于锂电池正负极材料的过滤分离装置申请（专利权）人： 曼弗莱德智能制造（江苏）有限公司',\n",
       " '一种柔性锂硫电池及其制备方法申请（专利权）人： 中国科学院电工研究所',\n",
       " '风冷燃料电池的阴极流场板结构和风冷燃料电池申请（专利权）人： 西安交通大学']"
      ]
     },
     "execution_count": 6,
     "metadata": {},
     "output_type": "execute_result"
    }
   ],
   "source": [
    "data[0]['recommandtech']"
   ]
  }
 ],
 "metadata": {
  "kernelspec": {
   "display_name": "Python 3",
   "language": "python",
   "name": "python3"
  },
  "language_info": {
   "codemirror_mode": {
    "name": "ipython",
    "version": 3
   },
   "file_extension": ".py",
   "mimetype": "text/x-python",
   "name": "python",
   "nbconvert_exporter": "python",
   "pygments_lexer": "ipython3",
   "version": "3.9.7"
  },
  "orig_nbformat": 4,
  "vscode": {
   "interpreter": {
    "hash": "4cff3abf1678755e0069fd79299a535fe1940bcd71a6b01d9f4386710b2b163f"
   }
  }
 },
 "nbformat": 4,
 "nbformat_minor": 2
}
